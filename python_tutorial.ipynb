{
  "nbformat": 4,
  "nbformat_minor": 0,
  "metadata": {
    "colab": {
      "name": "Srimath S M - [AA.SC.U3CSC2107226] - A4.ipynb",
      "provenance": [],
      "collapsed_sections": []
    },
    "kernelspec": {
      "name": "python3",
      "display_name": "Python 3"
    }
  },
  "cells": [
    {
      "cell_type": "markdown",
      "source": [
        "#Simple Python Problems and Solutions"
      ],
      "metadata": {
        "id": "rTTOP2L-mF_v"
      }
    },
    {
      "cell_type": "markdown",
      "metadata": {
        "id": "d-87D5SiKVa8"
      },
      "source": [
        "\n",
        "1. Write a program that checks if the input string starts with char 'a'.<br>Accept a, amrita, ahead, algorithmic. Reject problem, solving, thinking."
      ]
    },
    {
      "cell_type": "code",
      "metadata": {
        "colab": {
          "base_uri": "https://localhost:8080/"
        },
        "outputId": "c5306eb9-fe03-4aa5-a80a-754b1327a419",
        "id": "GMNg8ECdkuhh"
      },
      "source": [
        "text = input()\n",
        "if text.startswith(\"a\") :\n",
        "  print('YES')\n",
        "else :\n",
        "  print('NO')"
      ],
      "execution_count": null,
      "outputs": [
        {
          "output_type": "stream",
          "name": "stdout",
          "text": [
            "www\n",
            "NO\n"
          ]
        }
      ]
    },
    {
      "cell_type": "markdown",
      "metadata": {
        "id": "J5mebn_KJ3uy"
      },
      "source": [
        "2. Write a program that checks if the input string starts and ends with the same char.<br>Accept amrita, xerox. Reject ahead, loop."
      ]
    },
    {
      "cell_type": "code",
      "metadata": {
        "id": "3nMRVuKmhW1K",
        "colab": {
          "base_uri": "https://localhost:8080/"
        },
        "outputId": "b8cb9ae9-ced5-4760-f199-3e04f13b7193"
      },
      "source": [
        "text = input()\n",
        "if text[0] == text[-1] :\n",
        "  print('YES')\n",
        "else :\n",
        "  print('NO')"
      ],
      "execution_count": null,
      "outputs": [
        {
          "output_type": "stream",
          "name": "stdout",
          "text": [
            "ahead\n",
            "NO\n"
          ]
        }
      ]
    },
    {
      "cell_type": "markdown",
      "metadata": {
        "id": "6KMz2seGJ0LK"
      },
      "source": [
        "3. Write a program that checks if the input string does not end with the same char it starts with.<br>Accept ahead, loop. Reject amrita, xerox."
      ]
    },
    {
      "cell_type": "code",
      "metadata": {
        "id": "RUD0t6sGhX4I",
        "colab": {
          "base_uri": "https://localhost:8080/"
        },
        "outputId": "4ac4c572-20b8-4c57-a957-c04da1102724"
      },
      "source": [
        "text = input()\n",
        "if text[0] != text[-1] :\n",
        "  print('YES')\n",
        "else :\n",
        "  print('NO')"
      ],
      "execution_count": null,
      "outputs": [
        {
          "output_type": "stream",
          "name": "stdout",
          "text": [
            "ahead\n",
            "YES\n"
          ]
        }
      ]
    },
    {
      "cell_type": "markdown",
      "metadata": {
        "id": "BVXw_OpwJw5a"
      },
      "source": [
        "4. Write a program that checks if the input string contains at least one 'a'.<br>Accept amrita, ahead, algorithm, xyza. Reject problem, thinking."
      ]
    },
    {
      "cell_type": "code",
      "metadata": {
        "id": "b0U4vowxhZL4",
        "colab": {
          "base_uri": "https://localhost:8080/"
        },
        "outputId": "8dc189ab-2070-478a-da58-7fc12399f0eb"
      },
      "source": [
        "text = input()\n",
        "if text.count(\"a\")>=1 :\n",
        "  print('YES')\n",
        "else :\n",
        "  print('NO')\n"
      ],
      "execution_count": null,
      "outputs": [
        {
          "output_type": "stream",
          "name": "stdout",
          "text": [
            "ahead\n",
            "YES\n"
          ]
        }
      ]
    },
    {
      "cell_type": "markdown",
      "metadata": {
        "id": "wX_yhZMzJtMk"
      },
      "source": [
        "5. Write a program that checks if the input string contains exactly one a.<br>Accept algorithm, iteration. Reject amrita, ahead, problem."
      ]
    },
    {
      "cell_type": "code",
      "metadata": {
        "id": "ZiSjacDkhaGx",
        "colab": {
          "base_uri": "https://localhost:8080/"
        },
        "outputId": "9ee8b9ea-a355-4a97-d20d-0cf9b2c095e8"
      },
      "source": [
        "text = input()\n",
        "if text.count(\"a\")==1 :\n",
        "  print('YES')\n",
        "else :\n",
        "  print('NO')"
      ],
      "execution_count": null,
      "outputs": [
        {
          "output_type": "stream",
          "name": "stdout",
          "text": [
            "ahead\n",
            "NO\n"
          ]
        }
      ]
    },
    {
      "cell_type": "markdown",
      "metadata": {
        "id": "I5pn3SrMJpkq"
      },
      "source": [
        "6. Write a program that checks if the input string contains two consecutive e's.<br>Accept engineer, evergreen. Reject amrita, ahead, center."
      ]
    },
    {
      "cell_type": "code",
      "metadata": {
        "id": "J6aHc52Tha2w",
        "colab": {
          "base_uri": "https://localhost:8080/"
        },
        "outputId": "ee5f3260-e993-42a4-d05e-f9755d05abd7"
      },
      "source": [
        "text = input()\n",
        "res = \"NO\"\n",
        "if text.count(\"e\") >= 2:\n",
        "    for i in range(len(text) - 1):\n",
        "        if text[i] == text[i + 1] and text[i] == \"e\":\n",
        "            res = \"YES\"\n",
        "    print(res)\n",
        "else:\n",
        "    print(res)\n"
      ],
      "execution_count": null,
      "outputs": [
        {
          "output_type": "stream",
          "name": "stdout",
          "text": [
            "engineer\n",
            "YES\n"
          ]
        }
      ]
    },
    {
      "cell_type": "markdown",
      "metadata": {
        "id": "OUYeRZ-iJmLa"
      },
      "source": [
        "7. Write a program that checks if the input string does not contain two consecutive e's.<br>Accept amrita, ahead, center. Reject see, meet. "
      ]
    },
    {
      "cell_type": "code",
      "metadata": {
        "id": "rIVP5YXRhbsh",
        "colab": {
          "base_uri": "https://localhost:8080/"
        },
        "outputId": "d5d48297-5c33-4631-87ae-8710bdfa84e8"
      },
      "source": [
        "text = input()\n",
        "res = \"YES\"\n",
        "if text.count(\"e\") >= 2:\n",
        "    for i in range(len(text) - 1):\n",
        "        if text[i] == text[i + 1] and text[i] == \"e\":\n",
        "            res = \"NO\"\n",
        "    print(res)\n",
        "else:\n",
        "    print(res)"
      ],
      "execution_count": null,
      "outputs": [
        {
          "output_type": "stream",
          "name": "stdout",
          "text": [
            "amrita\n",
            "YES\n"
          ]
        }
      ]
    },
    {
      "cell_type": "markdown",
      "metadata": {
        "id": "5dhfqsDcJijD"
      },
      "source": [
        "8. Write a program that checks if the input string contains at most two e's.<br>Accept amrita, ahead, center, green. Reject evergreen, ensemble."
      ]
    },
    {
      "cell_type": "code",
      "metadata": {
        "id": "rAI19HSUhcUA",
        "colab": {
          "base_uri": "https://localhost:8080/"
        },
        "outputId": "ab22c8ac-872a-467e-818a-6f746d73e2b4"
      },
      "source": [
        "text = input()\n",
        "if text.count(\"e\")<=2 :\n",
        "  print('YES')\n",
        "else :\n",
        "  print('NO')"
      ],
      "execution_count": null,
      "outputs": [
        {
          "output_type": "stream",
          "name": "stdout",
          "text": [
            "engineer\n",
            "NO\n"
          ]
        }
      ]
    },
    {
      "cell_type": "markdown",
      "metadata": {
        "id": "GFIvH_gyJb_s"
      },
      "source": [
        "9. Write a program that checks if the input string contains two u's and three b's.<br>Accept ububb, bubblegum. Reject umbrella, bubble, gum"
      ]
    },
    {
      "cell_type": "code",
      "metadata": {
        "id": "LzUxNjI2hdnR",
        "colab": {
          "base_uri": "https://localhost:8080/"
        },
        "outputId": "2caecfd4-5721-4782-af30-c1d23b26e24b"
      },
      "source": [
        "text = input()\n",
        "if text.count(\"u\")>=2 and text.count(\"b\")>=3 :\n",
        "  print('YES')\n",
        "else :\n",
        "  print('NO')"
      ],
      "execution_count": null,
      "outputs": [
        {
          "output_type": "stream",
          "name": "stdout",
          "text": [
            "bubblegum\n",
            "YES\n"
          ]
        }
      ]
    },
    {
      "cell_type": "markdown",
      "metadata": {
        "id": "LPPk95QQJYQ6"
      },
      "source": [
        "10. Write a program that checks if the input string contains even number of e's.<br>Accept center, evergreen. Reject amrita, ahead, engineer."
      ]
    },
    {
      "cell_type": "code",
      "metadata": {
        "id": "ZI9BWUn6hedg",
        "colab": {
          "base_uri": "https://localhost:8080/"
        },
        "outputId": "0da7eaf3-73ff-4bea-f33b-2200a954fcb4"
      },
      "source": [
        "text = input()\n",
        "if text.count(\"e\")%2==0 and  text.count(\"e\")!=0:\n",
        "  print('YES')\n",
        "else :\n",
        "  print('NO')"
      ],
      "execution_count": null,
      "outputs": [
        {
          "output_type": "stream",
          "name": "stdout",
          "text": [
            "center\n",
            "YES\n"
          ]
        }
      ]
    },
    {
      "cell_type": "markdown",
      "metadata": {
        "id": "GtJXT4DSJUt7"
      },
      "source": [
        "11. Write a program that checks if every e in the input string is followed by two s's.<br>Accept success, less, esspresso. Reject ahead, express."
      ]
    },
    {
      "cell_type": "code",
      "metadata": {
        "id": "pAYjGrg0hfHB",
        "colab": {
          "base_uri": "https://localhost:8080/"
        },
        "outputId": "02e9325f-5e37-48fa-d5cf-2ac7c8ef4277"
      },
      "source": [
        "text = input()\n",
        "res = 0\n",
        "if text.count(\"s\") >= 2 and text.count(\"e\") >= 1:\n",
        "    for i in range(len(text) - 2):\n",
        "        if text[i] == \"e\" and text[i + 1] == \"s\" and text[i + 2] == \"s\":\n",
        "            res = \"YES\"\n",
        "        else:\n",
        "            if text[i] == \"e\":\n",
        "                res = \"NO\"\n",
        "                break\n",
        "    print(res)\n",
        "else:\n",
        "    print(\"NO\")\n"
      ],
      "execution_count": null,
      "outputs": [
        {
          "output_type": "stream",
          "name": "stdout",
          "text": [
            "express\n",
            "NO\n"
          ]
        }
      ]
    },
    {
      "cell_type": "markdown",
      "metadata": {
        "id": "iJRlbp8gJQxD"
      },
      "source": [
        "12. Write a program that checks if every e in the input string is preceded by two cc's.<br>Accept success. Reject excess."
      ]
    },
    {
      "cell_type": "code",
      "metadata": {
        "id": "RPYEY1bphf2y",
        "colab": {
          "base_uri": "https://localhost:8080/"
        },
        "outputId": "645dfff9-5f9c-49b5-8e4c-3edd536d7dc3"
      },
      "source": [
        "text = input()\n",
        "res = \"NO\"\n",
        "if text.count(\"c\") >= 2 and text.count(\"e\") >= 1:\n",
        "    for i in range(len(text) - 2):\n",
        "        if text[i] == \"e\" and text[i - 1] == \"c\" and text[i - 2] == \"c\":\n",
        "            res = \"YES\"\n",
        "    print(res)\n",
        "else:\n",
        "    print(\"NO\")\n"
      ],
      "execution_count": null,
      "outputs": [
        {
          "output_type": "stream",
          "name": "stdout",
          "text": [
            "excess\n",
            "NO\n"
          ]
        }
      ]
    },
    {
      "cell_type": "markdown",
      "metadata": {
        "id": "JcMvp5yxJMy7"
      },
      "source": [
        "13. Write a program that checks if every a in the input string is preceded by two b's and followed by three c's.<br>Accept bbaccc, xbbacccyzbbaccc. Reject bxbaccc, bbacc, baccc."
      ]
    },
    {
      "cell_type": "code",
      "metadata": {
        "id": "x2NLdJbfhgkj",
        "colab": {
          "base_uri": "https://localhost:8080/"
        },
        "outputId": "fa26e9d2-5d88-46c4-ab45-1962ee42e302"
      },
      "source": [
        "text = input()\n",
        "res = \"NO\"\n",
        "if text.count(\"a\") >= 1 and text.count(\"b\") >= 2 and text.count(\"c\") >= 3:\n",
        "    for i in range(len(text) - 3):\n",
        "        if text[i] == \"a\" and text[i - 1] == \"b\" and text[i - 2] == \"b\" and text[i + 1] == \"c\" and text[i + 2] == \"c\" and text[i + 3] == \"c\":\n",
        "            res = \"YES\"\n",
        "    print(res)\n",
        "else:\n",
        "  print(res)"
      ],
      "execution_count": null,
      "outputs": [
        {
          "output_type": "stream",
          "name": "stdout",
          "text": [
            "bbaccc\n",
            "YES\n"
          ]
        }
      ]
    },
    {
      "cell_type": "markdown",
      "metadata": {
        "id": "qGhf1Zx_JJAD"
      },
      "source": [
        "14. Write a program that checks if the input string of even length is a palindrome.<br>Accept amma, malayyalam. Reject ahead, malayalam."
      ]
    },
    {
      "cell_type": "code",
      "metadata": {
        "id": "7uDXV8NehhUB",
        "colab": {
          "base_uri": "https://localhost:8080/"
        },
        "outputId": "0959d724-7213-40b3-fbd3-b6492d8632df"
      },
      "source": [
        "text = input()\n",
        "text2 = \"\".join(reversed(text))\n",
        "if text==text2 and len(text)%2==0 :\n",
        "  print('YES')\n",
        "else :\n",
        "  print('NO')"
      ],
      "execution_count": null,
      "outputs": [
        {
          "output_type": "stream",
          "name": "stdout",
          "text": [
            "amma\n",
            "YES\n"
          ]
        }
      ]
    },
    {
      "cell_type": "markdown",
      "metadata": {
        "id": "Ik56e8T-I6yR"
      },
      "source": [
        "15. Write a program that checks if the input string is a palindrome.<br>Accept amma, malayalam, redivider. Reject ahead."
      ]
    },
    {
      "cell_type": "code",
      "metadata": {
        "id": "U4fS1sebhiFJ",
        "colab": {
          "base_uri": "https://localhost:8080/"
        },
        "outputId": "b110c298-a912-4aaf-b618-f2a3dc158cb5"
      },
      "source": [
        "text = input()\n",
        "text2 = \"\".join(reversed(text))\n",
        "if text==text2 :\n",
        "  print('YES')\n",
        "else :\n",
        "  print('NO')"
      ],
      "execution_count": null,
      "outputs": [
        {
          "output_type": "stream",
          "name": "stdout",
          "text": [
            "amma\n",
            "YES\n"
          ]
        }
      ]
    },
    {
      "cell_type": "markdown",
      "metadata": {
        "id": "-aamQxi2I04l"
      },
      "source": [
        "\n",
        "16. Write a program that counts and prints the number of vowels in the input string.<br>europe --> 4, amrita --> 3."
      ]
    },
    {
      "cell_type": "code",
      "metadata": {
        "id": "lKVdMQxmhiq5",
        "colab": {
          "base_uri": "https://localhost:8080/"
        },
        "outputId": "dcadf0a1-e5c8-4fdc-d52a-cc681e3c7793"
      },
      "source": [
        "text = input()\n",
        "print(text.count(\"a\")+text.count(\"e\")+text.count(\"i\")+text.count(\"o\")+text.count(\"u\"))"
      ],
      "execution_count": null,
      "outputs": [
        {
          "output_type": "stream",
          "name": "stdout",
          "text": [
            "amrita\n",
            "3\n"
          ]
        }
      ]
    },
    {
      "cell_type": "markdown",
      "metadata": {
        "id": "Y7I7vIItIwvs"
      },
      "source": [
        "17. Write a program that checks if the number of a's in the input string is equal to the number of b's.<br>Accept aaabbb, ababab, abcabcabc. Reject abacab, ahead."
      ]
    },
    {
      "cell_type": "code",
      "metadata": {
        "id": "vdqpeAPahjdx",
        "colab": {
          "base_uri": "https://localhost:8080/"
        },
        "outputId": "13172c34-949c-4b1d-bf10-032109988b4d"
      },
      "source": [
        "t= input()\n",
        "if t.count(\"a\")==t.count(\"b\"):\n",
        "  print(\"YES\")\n",
        "else:\n",
        "  print(\"NO\")"
      ],
      "execution_count": null,
      "outputs": [
        {
          "output_type": "stream",
          "name": "stdout",
          "text": [
            "aaabbb\n",
            "YES\n"
          ]
        }
      ]
    },
    {
      "cell_type": "markdown",
      "metadata": {
        "id": "m7Ldyt5EIjVp"
      },
      "source": [
        "18. Write a program that checks (i) if the input string length is even, it should contain exactly two vowels (ii) if length is odd, it should contain odd number of vowels.<br>Accept team, tiktok, ahead. Reject amrita, online, graduate."
      ]
    },
    {
      "cell_type": "code",
      "metadata": {
        "id": "gWkXvaOMhkPz",
        "colab": {
          "base_uri": "https://localhost:8080/"
        },
        "outputId": "4bc89892-2aae-40e0-f18c-82a6c85a348f"
      },
      "source": [
        "text = input()\n",
        "vow = text.count(\"a\")+text.count(\"e\")+text.count(\"i\")+text.count(\"o\")+text.count(\"u\")\n",
        "if len(text)%2==0 and vow==2 or len(text)%2!=0 and vow%2!=0:\n",
        "  print(\"YES\")\n",
        "else:\n",
        "  print(\"NO\")"
      ],
      "execution_count": null,
      "outputs": [
        {
          "output_type": "stream",
          "name": "stdout",
          "text": [
            "team\n",
            "YES\n"
          ]
        }
      ]
    },
    {
      "cell_type": "markdown",
      "metadata": {
        "id": "W0_TUVOCIfB7"
      },
      "source": [
        "19. Write a program that checks if two input strings are same.<br> Accept [amrita,amrita], [ahead,ahead]. Reject [amrita,ahead]."
      ]
    },
    {
      "cell_type": "code",
      "metadata": {
        "id": "jOhNu0M9hlSi",
        "colab": {
          "base_uri": "https://localhost:8080/"
        },
        "outputId": "5838527b-0643-4b1f-d514-4f64ffc3c19e"
      },
      "source": [
        "t1, t2 = map(str, input().split())\n",
        "if t1==t2:\n",
        "  print(\"YES\")\n",
        "else:\n",
        "  print(\"NO\")"
      ],
      "execution_count": null,
      "outputs": [
        {
          "output_type": "stream",
          "name": "stdout",
          "text": [
            "amrita amrita\n",
            "YES\n"
          ]
        }
      ]
    },
    {
      "cell_type": "markdown",
      "metadata": {
        "id": "hDaDuEgWIGYV"
      },
      "source": [
        "20. Write a program that checks if two input strings are anagrams.<br>Accept [trace,react], [dealer,leader]. Reject [amrita,ahead]"
      ]
    },
    {
      "cell_type": "code",
      "metadata": {
        "id": "3w3618F4hmrR",
        "colab": {
          "base_uri": "https://localhost:8080/"
        },
        "outputId": "1bca2a85-5fe1-49e6-880d-759d1aa30a56"
      },
      "source": [
        "t1, t2 = map(str, input().split())\n",
        "res=0\n",
        "for i in range(len(t1)):\n",
        "  if t1.count(t1[i])==t2.count(t1[i]):\n",
        "    res = \"YES\"\n",
        "  else:\n",
        "    res = \"NO\"\n",
        "    break\n",
        "print(res)"
      ],
      "execution_count": null,
      "outputs": [
        {
          "output_type": "stream",
          "name": "stdout",
          "text": [
            "trace react\n",
            "YES\n"
          ]
        }
      ]
    }
  ]
}